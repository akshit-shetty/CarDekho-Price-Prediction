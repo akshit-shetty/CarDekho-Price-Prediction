{
 "cells": [
  {
   "cell_type": "markdown",
   "id": "9e479e09",
   "metadata": {},
   "source": [
    "## Problem Statement:\n",
    "The CarDekho company maintains a database of the cars sold through their platform. The data represents the cars sold by Car Dekho and the car related features. We have to build a linear regression model to predict the Selling price of the car. Calculate all the error metrics and diagnostic plots to check the regression result. The dataset contains data for around 301 cars sold by CarDekho."
   ]
  },
  {
   "cell_type": "code",
   "execution_count": 10,
   "id": "6d45423b",
   "metadata": {},
   "outputs": [],
   "source": [
    "import numpy as np\n",
    "import pandas as pd\n",
    "import seaborn as sns\n",
    "from sklearn.model_selection import train_test_split\n",
    "import matplotlib.pyplot as plt\n",
    "import statsmodels.api as sm\n",
    "from scipy import stats"
   ]
  },
  {
   "cell_type": "markdown",
   "id": "350102cc",
   "metadata": {},
   "source": [
    "## Read the cars dataset"
   ]
  },
  {
   "cell_type": "code",
   "execution_count": 4,
   "id": "451e7ed2",
   "metadata": {},
   "outputs": [],
   "source": [
    "car = pd.read_csv(\"car data.csv\")"
   ]
  },
  {
   "cell_type": "code",
   "execution_count": 5,
   "id": "b8a88625",
   "metadata": {},
   "outputs": [
    {
     "data": {
      "text/html": [
       "<div>\n",
       "<style scoped>\n",
       "    .dataframe tbody tr th:only-of-type {\n",
       "        vertical-align: middle;\n",
       "    }\n",
       "\n",
       "    .dataframe tbody tr th {\n",
       "        vertical-align: top;\n",
       "    }\n",
       "\n",
       "    .dataframe thead th {\n",
       "        text-align: right;\n",
       "    }\n",
       "</style>\n",
       "<table border=\"1\" class=\"dataframe\">\n",
       "  <thead>\n",
       "    <tr style=\"text-align: right;\">\n",
       "      <th></th>\n",
       "      <th>Car_Name</th>\n",
       "      <th>Year</th>\n",
       "      <th>Selling_Price</th>\n",
       "      <th>Present_Price</th>\n",
       "      <th>Kms_Driven</th>\n",
       "      <th>Fuel_Type</th>\n",
       "      <th>Seller_Type</th>\n",
       "      <th>Transmission</th>\n",
       "      <th>Owner</th>\n",
       "    </tr>\n",
       "  </thead>\n",
       "  <tbody>\n",
       "    <tr>\n",
       "      <th>0</th>\n",
       "      <td>ritz</td>\n",
       "      <td>2014</td>\n",
       "      <td>3.35</td>\n",
       "      <td>5.59</td>\n",
       "      <td>27000</td>\n",
       "      <td>Petrol</td>\n",
       "      <td>Dealer</td>\n",
       "      <td>Manual</td>\n",
       "      <td>0</td>\n",
       "    </tr>\n",
       "    <tr>\n",
       "      <th>1</th>\n",
       "      <td>sx4</td>\n",
       "      <td>2013</td>\n",
       "      <td>4.75</td>\n",
       "      <td>9.54</td>\n",
       "      <td>43000</td>\n",
       "      <td>Diesel</td>\n",
       "      <td>Dealer</td>\n",
       "      <td>Manual</td>\n",
       "      <td>0</td>\n",
       "    </tr>\n",
       "    <tr>\n",
       "      <th>2</th>\n",
       "      <td>ciaz</td>\n",
       "      <td>2017</td>\n",
       "      <td>7.25</td>\n",
       "      <td>9.85</td>\n",
       "      <td>6900</td>\n",
       "      <td>Petrol</td>\n",
       "      <td>Dealer</td>\n",
       "      <td>Manual</td>\n",
       "      <td>0</td>\n",
       "    </tr>\n",
       "    <tr>\n",
       "      <th>3</th>\n",
       "      <td>wagon r</td>\n",
       "      <td>2011</td>\n",
       "      <td>2.85</td>\n",
       "      <td>4.15</td>\n",
       "      <td>5200</td>\n",
       "      <td>Petrol</td>\n",
       "      <td>Dealer</td>\n",
       "      <td>Manual</td>\n",
       "      <td>0</td>\n",
       "    </tr>\n",
       "    <tr>\n",
       "      <th>4</th>\n",
       "      <td>swift</td>\n",
       "      <td>2014</td>\n",
       "      <td>4.60</td>\n",
       "      <td>6.87</td>\n",
       "      <td>42450</td>\n",
       "      <td>Diesel</td>\n",
       "      <td>Dealer</td>\n",
       "      <td>Manual</td>\n",
       "      <td>0</td>\n",
       "    </tr>\n",
       "    <tr>\n",
       "      <th>5</th>\n",
       "      <td>vitara brezza</td>\n",
       "      <td>2018</td>\n",
       "      <td>9.25</td>\n",
       "      <td>9.83</td>\n",
       "      <td>2071</td>\n",
       "      <td>Diesel</td>\n",
       "      <td>Dealer</td>\n",
       "      <td>Manual</td>\n",
       "      <td>0</td>\n",
       "    </tr>\n",
       "    <tr>\n",
       "      <th>6</th>\n",
       "      <td>ciaz</td>\n",
       "      <td>2015</td>\n",
       "      <td>6.75</td>\n",
       "      <td>8.12</td>\n",
       "      <td>18796</td>\n",
       "      <td>Petrol</td>\n",
       "      <td>Dealer</td>\n",
       "      <td>Manual</td>\n",
       "      <td>0</td>\n",
       "    </tr>\n",
       "    <tr>\n",
       "      <th>7</th>\n",
       "      <td>s cross</td>\n",
       "      <td>2015</td>\n",
       "      <td>6.50</td>\n",
       "      <td>8.61</td>\n",
       "      <td>33429</td>\n",
       "      <td>Diesel</td>\n",
       "      <td>Dealer</td>\n",
       "      <td>Manual</td>\n",
       "      <td>0</td>\n",
       "    </tr>\n",
       "    <tr>\n",
       "      <th>8</th>\n",
       "      <td>ciaz</td>\n",
       "      <td>2016</td>\n",
       "      <td>8.75</td>\n",
       "      <td>8.89</td>\n",
       "      <td>20273</td>\n",
       "      <td>Diesel</td>\n",
       "      <td>Dealer</td>\n",
       "      <td>Manual</td>\n",
       "      <td>0</td>\n",
       "    </tr>\n",
       "    <tr>\n",
       "      <th>9</th>\n",
       "      <td>ciaz</td>\n",
       "      <td>2015</td>\n",
       "      <td>7.45</td>\n",
       "      <td>8.92</td>\n",
       "      <td>42367</td>\n",
       "      <td>Diesel</td>\n",
       "      <td>Dealer</td>\n",
       "      <td>Manual</td>\n",
       "      <td>0</td>\n",
       "    </tr>\n",
       "  </tbody>\n",
       "</table>\n",
       "</div>"
      ],
      "text/plain": [
       "        Car_Name  Year  Selling_Price  Present_Price  Kms_Driven Fuel_Type  \\\n",
       "0           ritz  2014           3.35           5.59       27000    Petrol   \n",
       "1            sx4  2013           4.75           9.54       43000    Diesel   \n",
       "2           ciaz  2017           7.25           9.85        6900    Petrol   \n",
       "3        wagon r  2011           2.85           4.15        5200    Petrol   \n",
       "4          swift  2014           4.60           6.87       42450    Diesel   \n",
       "5  vitara brezza  2018           9.25           9.83        2071    Diesel   \n",
       "6           ciaz  2015           6.75           8.12       18796    Petrol   \n",
       "7        s cross  2015           6.50           8.61       33429    Diesel   \n",
       "8           ciaz  2016           8.75           8.89       20273    Diesel   \n",
       "9           ciaz  2015           7.45           8.92       42367    Diesel   \n",
       "\n",
       "  Seller_Type Transmission  Owner  \n",
       "0      Dealer       Manual      0  \n",
       "1      Dealer       Manual      0  \n",
       "2      Dealer       Manual      0  \n",
       "3      Dealer       Manual      0  \n",
       "4      Dealer       Manual      0  \n",
       "5      Dealer       Manual      0  \n",
       "6      Dealer       Manual      0  \n",
       "7      Dealer       Manual      0  \n",
       "8      Dealer       Manual      0  \n",
       "9      Dealer       Manual      0  "
      ]
     },
     "execution_count": 5,
     "metadata": {},
     "output_type": "execute_result"
    }
   ],
   "source": [
    "car.head(10)"
   ]
  },
  {
   "cell_type": "markdown",
   "id": "86c5517a",
   "metadata": {},
   "source": [
    "## Exploratory Data Analysis (EDA) "
   ]
  },
  {
   "cell_type": "markdown",
   "id": "8305cc70",
   "metadata": {},
   "source": [
    "Data quality check"
   ]
  },
  {
   "cell_type": "code",
   "execution_count": 6,
   "id": "15a0aad3",
   "metadata": {},
   "outputs": [
    {
     "name": "stdout",
     "output_type": "stream",
     "text": [
      "<class 'pandas.core.frame.DataFrame'>\n",
      "RangeIndex: 301 entries, 0 to 300\n",
      "Data columns (total 9 columns):\n",
      " #   Column         Non-Null Count  Dtype  \n",
      "---  ------         --------------  -----  \n",
      " 0   Car_Name       301 non-null    object \n",
      " 1   Year           301 non-null    int64  \n",
      " 2   Selling_Price  301 non-null    float64\n",
      " 3   Present_Price  301 non-null    float64\n",
      " 4   Kms_Driven     301 non-null    int64  \n",
      " 5   Fuel_Type      301 non-null    object \n",
      " 6   Seller_Type    301 non-null    object \n",
      " 7   Transmission   301 non-null    object \n",
      " 8   Owner          301 non-null    int64  \n",
      "dtypes: float64(2), int64(3), object(4)\n",
      "memory usage: 21.3+ KB\n",
      "None\n",
      "              Year  Selling_Price  Present_Price     Kms_Driven       Owner\n",
      "count   301.000000     301.000000     301.000000     301.000000  301.000000\n",
      "mean   2013.627907       4.661296       7.628472   36947.205980    0.043189\n",
      "std       2.891554       5.082812       8.644115   38886.883882    0.247915\n",
      "min    2003.000000       0.100000       0.320000     500.000000    0.000000\n",
      "25%    2012.000000       0.900000       1.200000   15000.000000    0.000000\n",
      "50%    2014.000000       3.600000       6.400000   32000.000000    0.000000\n",
      "75%    2016.000000       6.000000       9.900000   48767.000000    0.000000\n",
      "max    2018.000000      35.000000      92.600000  500000.000000    3.000000\n"
     ]
    }
   ],
   "source": [
    "print(car.info())\n",
    "print(car.describe())"
   ]
  },
  {
   "cell_type": "markdown",
   "id": "b275ed03",
   "metadata": {},
   "source": [
    "Check for missing values"
   ]
  },
  {
   "cell_type": "code",
   "execution_count": 7,
   "id": "c5533b87",
   "metadata": {},
   "outputs": [
    {
     "name": "stdout",
     "output_type": "stream",
     "text": [
      "Car_Name         0\n",
      "Year             0\n",
      "Selling_Price    0\n",
      "Present_Price    0\n",
      "Kms_Driven       0\n",
      "Fuel_Type        0\n",
      "Seller_Type      0\n",
      "Transmission     0\n",
      "Owner            0\n",
      "dtype: int64\n"
     ]
    }
   ],
   "source": [
    "print(car.isnull().sum())"
   ]
  },
  {
   "cell_type": "markdown",
   "id": "fd35ec79",
   "metadata": {},
   "source": [
    "Correlation matrix to identify linear relationships"
   ]
  },
  {
   "cell_type": "code",
   "execution_count": 11,
   "id": "fd4f0f48",
   "metadata": {},
   "outputs": [
    {
     "name": "stderr",
     "output_type": "stream",
     "text": [
      "C:\\Users\\Akshit\\AppData\\Local\\Temp\\ipykernel_12628\\2298250805.py:1: FutureWarning: The default value of numeric_only in DataFrame.corr is deprecated. In a future version, it will default to False. Select only valid columns or specify the value of numeric_only to silence this warning.\n",
      "  correlation_matrix = car.corr()\n"
     ]
    },
    {
     "data": {
      "image/png": "[encoded data removed]",
      "text/plain": [
       "<Figure size 640x480 with 2 Axes>"
      ]
     },
     "metadata": {},
     "output_type": "display_data"
    }
   ],
   "source": [
    "correlation_matrix = car.corr()\n",
    "sns.heatmap(correlation_matrix, annot=True, cmap='coolwarm', fmt=\".2f\")\n",
    "plt.title('Correlation Matrix')\n",
    "plt.show()"
   ]
  },
  {
   "cell_type": "markdown",
   "id": "335746fd",
   "metadata": {},
   "source": [
    "## Transform the categorical data."
   ]
  },
  {
   "cell_type": "code",
   "execution_count": 12,
   "id": "1ff51b08",
   "metadata": {},
   "outputs": [],
   "source": [
    "car_final = car.drop(['Car_Name','Selling_Price'], axis =1)"
   ]
  },
  {
   "cell_type": "code",
   "execution_count": 13,
   "id": "942746b6",
   "metadata": {},
   "outputs": [
    {
     "data": {
      "text/html": [
       "<div>\n",
       "<style scoped>\n",
       "    .dataframe tbody tr th:only-of-type {\n",
       "        vertical-align: middle;\n",
       "    }\n",
       "\n",
       "    .dataframe tbody tr th {\n",
       "        vertical-align: top;\n",
       "    }\n",
       "\n",
       "    .dataframe thead th {\n",
       "        text-align: right;\n",
       "    }\n",
       "</style>\n",
       "<table border=\"1\" class=\"dataframe\">\n",
       "  <thead>\n",
       "    <tr style=\"text-align: right;\">\n",
       "      <th></th>\n",
       "      <th>Year</th>\n",
       "      <th>Present_Price</th>\n",
       "      <th>Kms_Driven</th>\n",
       "      <th>Owner</th>\n",
       "      <th>Fuel_Type_CNG</th>\n",
       "      <th>Fuel_Type_Diesel</th>\n",
       "      <th>Fuel_Type_Petrol</th>\n",
       "      <th>Seller_Type_Dealer</th>\n",
       "      <th>Seller_Type_Individual</th>\n",
       "      <th>Transmission_Automatic</th>\n",
       "      <th>Transmission_Manual</th>\n",
       "    </tr>\n",
       "  </thead>\n",
       "  <tbody>\n",
       "    <tr>\n",
       "      <th>0</th>\n",
       "      <td>2014</td>\n",
       "      <td>5.59</td>\n",
       "      <td>27000</td>\n",
       "      <td>0</td>\n",
       "      <td>0</td>\n",
       "      <td>0</td>\n",
       "      <td>1</td>\n",
       "      <td>1</td>\n",
       "      <td>0</td>\n",
       "      <td>0</td>\n",
       "      <td>1</td>\n",
       "    </tr>\n",
       "    <tr>\n",
       "      <th>1</th>\n",
       "      <td>2013</td>\n",
       "      <td>9.54</td>\n",
       "      <td>43000</td>\n",
       "      <td>0</td>\n",
       "      <td>0</td>\n",
       "      <td>1</td>\n",
       "      <td>0</td>\n",
       "      <td>1</td>\n",
       "      <td>0</td>\n",
       "      <td>0</td>\n",
       "      <td>1</td>\n",
       "    </tr>\n",
       "    <tr>\n",
       "      <th>2</th>\n",
       "      <td>2017</td>\n",
       "      <td>9.85</td>\n",
       "      <td>6900</td>\n",
       "      <td>0</td>\n",
       "      <td>0</td>\n",
       "      <td>0</td>\n",
       "      <td>1</td>\n",
       "      <td>1</td>\n",
       "      <td>0</td>\n",
       "      <td>0</td>\n",
       "      <td>1</td>\n",
       "    </tr>\n",
       "    <tr>\n",
       "      <th>3</th>\n",
       "      <td>2011</td>\n",
       "      <td>4.15</td>\n",
       "      <td>5200</td>\n",
       "      <td>0</td>\n",
       "      <td>0</td>\n",
       "      <td>0</td>\n",
       "      <td>1</td>\n",
       "      <td>1</td>\n",
       "      <td>0</td>\n",
       "      <td>0</td>\n",
       "      <td>1</td>\n",
       "    </tr>\n",
       "    <tr>\n",
       "      <th>4</th>\n",
       "      <td>2014</td>\n",
       "      <td>6.87</td>\n",
       "      <td>42450</td>\n",
       "      <td>0</td>\n",
       "      <td>0</td>\n",
       "      <td>1</td>\n",
       "      <td>0</td>\n",
       "      <td>1</td>\n",
       "      <td>0</td>\n",
       "      <td>0</td>\n",
       "      <td>1</td>\n",
       "    </tr>\n",
       "  </tbody>\n",
       "</table>\n",
       "</div>"
      ],
      "text/plain": [
       "   Year  Present_Price  Kms_Driven  Owner  Fuel_Type_CNG  Fuel_Type_Diesel  \\\n",
       "0  2014           5.59       27000      0              0                 0   \n",
       "1  2013           9.54       43000      0              0                 1   \n",
       "2  2017           9.85        6900      0              0                 0   \n",
       "3  2011           4.15        5200      0              0                 0   \n",
       "4  2014           6.87       42450      0              0                 1   \n",
       "\n",
       "   Fuel_Type_Petrol  Seller_Type_Dealer  Seller_Type_Individual  \\\n",
       "0                 1                   1                       0   \n",
       "1                 0                   1                       0   \n",
       "2                 1                   1                       0   \n",
       "3                 1                   1                       0   \n",
       "4                 0                   1                       0   \n",
       "\n",
       "   Transmission_Automatic  Transmission_Manual  \n",
       "0                       0                    1  \n",
       "1                       0                    1  \n",
       "2                       0                    1  \n",
       "3                       0                    1  \n",
       "4                       0                    1  "
      ]
     },
     "execution_count": 13,
     "metadata": {},
     "output_type": "execute_result"
    }
   ],
   "source": [
    "car_final = pd.get_dummies(car_final)\n",
    "car_final.shape\n",
    "car_final.head()"
   ]
  },
  {
   "cell_type": "markdown",
   "id": "ea803b88",
   "metadata": {},
   "source": [
    "## Multiple Linear Regression model"
   ]
  },
  {
   "cell_type": "code",
   "execution_count": 16,
   "id": "02b61630",
   "metadata": {},
   "outputs": [
    {
     "name": "stdout",
     "output_type": "stream",
     "text": [
      "                            OLS Regression Results                            \n",
      "==============================================================================\n",
      "Dep. Variable:          Selling_Price   R-squared:                       0.889\n",
      "Model:                            OLS   Adj. R-squared:                  0.885\n",
      "Method:                 Least Squares   F-statistic:                     230.4\n",
      "Date:                Wed, 17 Jan 2024   Prob (F-statistic):          1.48e-105\n",
      "Time:                        20:17:36   Log-Likelihood:                -470.11\n",
      "No. Observations:                 240   AIC:                             958.2\n",
      "Df Residuals:                     231   BIC:                             989.5\n",
      "Df Model:                           8                                         \n",
      "Covariance Type:            nonrobust                                         \n",
      "==========================================================================================\n",
      "                             coef    std err          t      P>|t|      [0.025      0.975]\n",
      "------------------------------------------------------------------------------------------\n",
      "const                      4.7295      0.113     41.809      0.000       4.507       4.952\n",
      "Year                       1.0213      0.136      7.485      0.000       0.752       1.290\n",
      "Present_Price              3.7035      0.146     25.404      0.000       3.416       3.991\n",
      "Kms_Driven                -0.2390      0.128     -1.873      0.062      -0.491       0.012\n",
      "Owner                     -0.2237      0.107     -2.090      0.038      -0.435      -0.013\n",
      "Fuel_Type_CNG             -0.1294      0.100     -1.299      0.195      -0.326       0.067\n",
      "Fuel_Type_Diesel           0.3759      0.071      5.312      0.000       0.236       0.515\n",
      "Fuel_Type_Petrol          -0.3453      0.068     -5.050      0.000      -0.480      -0.211\n",
      "Seller_Type_Dealer         0.2843      0.067      4.274      0.000       0.153       0.415\n",
      "Seller_Type_Individual    -0.2843      0.067     -4.274      0.000      -0.415      -0.153\n",
      "Transmission_Automatic     0.2782      0.063      4.394      0.000       0.153       0.403\n",
      "Transmission_Manual       -0.2782      0.063     -4.394      0.000      -0.403      -0.153\n",
      "==============================================================================\n",
      "Omnibus:                       92.637   Durbin-Watson:                   2.202\n",
      "Prob(Omnibus):                  0.000   Jarque-Bera (JB):              819.782\n",
      "Skew:                           1.248   Prob(JB):                    9.70e-179\n",
      "Kurtosis:                      11.703   Cond. No.                     2.23e+16\n",
      "==============================================================================\n",
      "\n",
      "Notes:\n",
      "[1] Standard Errors assume that the covariance matrix of the errors is correctly specified.\n",
      "[2] The smallest eigenvalue is 1.61e-30. This might indicate that there are\n",
      "strong multicollinearity problems or that the design matrix is singular.\n"
     ]
    }
   ],
   "source": [
    "\n",
    "X = car_final\n",
    "X = stats.zscore(X)\n",
    "X = sm.add_constant(X)\n",
    "y = car['Selling_Price']\n",
    "\n",
    "X_train, X_test, y_train, y_test = train_test_split(X, y, test_size=0.2, random_state=42)\n",
    "\n",
    "res = sm.OLS(y_train, X_train).fit()\n",
    "print(res.summary())"
   ]
  },
  {
   "cell_type": "markdown",
   "id": "6e837816",
   "metadata": {},
   "source": [
    "## Feature Importance"
   ]
  },
  {
   "cell_type": "code",
   "execution_count": 17,
   "id": "ac23b620",
   "metadata": {},
   "outputs": [
    {
     "data": {
      "image/png": "[encoded data removed]",
      "text/plain": [
       "<Figure size 640x480 with 1 Axes>"
      ]
     },
     "metadata": {},
     "output_type": "display_data"
    }
   ],
   "source": [
    "feature_importance = pd.Series(res.params)\n",
    "feature_importance.plot(kind='barh')\n",
    "plt.title('Feature Importance (Statsmodels)')\n",
    "plt.xlabel('Coefficients')\n",
    "plt.show()"
   ]
  },
  {
   "cell_type": "markdown",
   "id": "b4883023",
   "metadata": {},
   "source": []
  },
  {
   "cell_type": "code",
   "execution_count": null,
   "id": "87b890aa",
   "metadata": {},
   "outputs": [],
   "source": []
  },
  {
   "cell_type": "code",
   "execution_count": null,
   "id": "3244c466",
   "metadata": {},
   "outputs": [],
   "source": []
  },
  {
   "cell_type": "code",
   "execution_count": null,
   "id": "14f75534",
   "metadata": {},
   "outputs": [],
   "source": []
  },
  {
   "cell_type": "code",
   "execution_count": null,
   "id": "5efad266",
   "metadata": {},
   "outputs": [],
   "source": []
  },
  {
   "cell_type": "code",
   "execution_count": null,
   "id": "2e8df612",
   "metadata": {},
   "outputs": [],
   "source": []
  },
  {
   "cell_type": "code",
   "execution_count": null,
   "id": "0af68c65",
   "metadata": {},
   "outputs": [],
   "source": []
  },
  {
   "cell_type": "code",
   "execution_count": null,
   "id": "1f99e3ac",
   "metadata": {},
   "outputs": [],
   "source": []
  }
 ],
 "metadata": {
  "kernelspec": {
   "display_name": "Python 3 (ipykernel)",
   "language": "python",
   "name": "python3"
  },
  "language_info": {
   "codemirror_mode": {
    "name": "ipython",
    "version": 3
   },
   "file_extension": ".py",
   "mimetype": "text/x-python",
   "name": "python",
   "nbconvert_exporter": "python",
   "pygments_lexer": "ipython3",
   "version": "3.11.4"
  }
 },
 "nbformat": 4,
 "nbformat_minor": 5
}
